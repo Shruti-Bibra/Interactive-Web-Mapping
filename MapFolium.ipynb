{
 "cells": [
  {
   "cell_type": "code",
   "execution_count": 1,
   "metadata": {},
   "outputs": [],
   "source": [
    "import folium\n",
    "import pandas as pd"
   ]
  },
  {
   "cell_type": "code",
   "execution_count": 2,
   "metadata": {},
   "outputs": [],
   "source": [
    "map=folium.Map(tiles='Stamen Terrain',zoom_start=10)\n",
    "fg=folium.FeatureGroup(name=\"My Map\")"
   ]
  },
  {
   "cell_type": "code",
   "execution_count": 3,
   "metadata": {},
   "outputs": [
    {
     "data": {
      "text/plain": [
       "Index(['VOLCANX020', 'NUMBER', 'NAME', 'LOCATION', 'STATUS', 'ELEV', 'TYPE',\n",
       "       'TIMEFRAME', 'LAT', 'LON'],\n",
       "      dtype='object')"
      ]
     },
     "execution_count": 3,
     "metadata": {},
     "output_type": "execute_result"
    }
   ],
   "source": [
    "data = pd.read_csv(\"Volcanoes.txt\")\n",
    "data.columns"
   ]
  },
  {
   "cell_type": "code",
   "execution_count": 4,
   "metadata": {},
   "outputs": [],
   "source": [
    "lat=data['LAT']\n",
    "lon=data['LON']\n",
    "lo=data['LOCATION']\n",
    "na=data['NAME']\n",
    "el=data['ELEV']"
   ]
  },
  {
   "cell_type": "code",
   "execution_count": 5,
   "metadata": {},
   "outputs": [],
   "source": [
    "def colorchange(elevation):\n",
    "    if elevation<=1000:\n",
    "        return 'green'\n",
    "    elif 1000<elevation<3000:\n",
    "        return 'orange'\n",
    "    else:\n",
    "        return 'red'"
   ]
  },
  {
   "cell_type": "code",
   "execution_count": 6,
   "metadata": {},
   "outputs": [],
   "source": [
    "for lt,ln,l,n,e in zip(lat,lon,lo,na,el):\n",
    "    fg.add_child(folium.Marker(location=[lt,ln],popup=l,tooltip=n,icon=folium.Icon(color=colorchange(e)),draggable=False))\n",
    "    #fg.add_child(folium.CircleMarker(location=[lt,ln],popup=l,tooltip=n,icon=folium.Icon(color=colorchange(e)),\n",
    "                                     #draggable=False,radius=10))\n",
    "    #fg.add_child(folium.Circle(location=[lt,ln],popup=l,tooltip=n,icon=folium.Icon(color=colorchange(e)),draggable=False))"
   ]
  },
  {
   "cell_type": "code",
   "execution_count": 7,
   "metadata": {},
   "outputs": [],
   "source": [
    "map.add_child(fg)\n",
    "map.save(\"Map1.html\")"
   ]
  },
  {
   "cell_type": "code",
   "execution_count": null,
   "metadata": {},
   "outputs": [],
   "source": []
  }
 ],
 "metadata": {
  "kernelspec": {
   "display_name": "Python 3",
   "language": "python",
   "name": "python3"
  },
  "language_info": {
   "codemirror_mode": {
    "name": "ipython",
    "version": 3
   },
   "file_extension": ".py",
   "mimetype": "text/x-python",
   "name": "python",
   "nbconvert_exporter": "python",
   "pygments_lexer": "ipython3",
   "version": "3.8.5"
  }
 },
 "nbformat": 4,
 "nbformat_minor": 4
}
